{
  "nbformat": 4,
  "nbformat_minor": 0,
  "metadata": {
    "kernelspec": {
      "language": "python",
      "display_name": "Python 3",
      "name": "python3"
    },
    "language_info": {
      "name": "python",
      "version": "3.7.10",
      "mimetype": "text/x-python",
      "codemirror_mode": {
        "name": "ipython",
        "version": 3
      },
      "pygments_lexer": "ipython3",
      "nbconvert_exporter": "python",
      "file_extension": ".py"
    },
    "colab": {
      "name": "iot-assignment-2.ipynb",
      "provenance": []
    }
  },
  "cells": [
    {
      "cell_type": "code",
      "metadata": {
        "_uuid": "8f2839f25d086af736a60e9eeb907d3b93b6e0e5",
        "_cell_guid": "b1076dfc-b9ad-4769-8c92-a6c4dae69d19",
        "trusted": true,
        "id": "o6j_zW7rwTRe"
      },
      "source": [
        " "
      ],
      "execution_count": null,
      "outputs": []
    },
    {
      "cell_type": "code",
      "metadata": {
        "execution": {
          "iopub.status.busy": "2021-10-31T13:30:02.012394Z",
          "iopub.execute_input": "2021-10-31T13:30:02.013008Z",
          "iopub.status.idle": "2021-10-31T13:30:08.582046Z",
          "shell.execute_reply.started": "2021-10-31T13:30:02.012899Z",
          "shell.execute_reply": "2021-10-31T13:30:08.581169Z"
        },
        "trusted": true,
        "id": "CAAVE0lNwTRj"
      },
      "source": [
        "import numpy as np\n",
        "import pandas as pd\n",
        "import matplotlib.pyplot as plt\n",
        "import tensorflow as tf\n",
        "\n",
        "from keras.models import Sequential\n",
        "from keras.layers import Dense\n",
        "from sklearn.model_selection import train_test_split\n",
        "from keras.utils.vis_utils import plot_model\n"
      ],
      "execution_count": 2,
      "outputs": []
    },
    {
      "cell_type": "code",
      "metadata": {
        "execution": {
          "iopub.status.busy": "2021-10-31T13:30:08.583894Z",
          "iopub.execute_input": "2021-10-31T13:30:08.584136Z",
          "iopub.status.idle": "2021-10-31T13:30:08.607017Z",
          "shell.execute_reply.started": "2021-10-31T13:30:08.584106Z",
          "shell.execute_reply": "2021-10-31T13:30:08.606419Z"
        },
        "trusted": true,
        "id": "EXcK06QVwTRl",
        "colab": {
          "base_uri": "https://localhost:8080/",
          "height": 204
        },
        "outputId": "1674a89b-d389-4d43-a9d6-1320b18becc6"
      },
      "source": [
        "# read data\n",
        "df=pd.read_csv(\"assg2.csv\")\n",
        "df.head()"
      ],
      "execution_count": 3,
      "outputs": [
        {
          "output_type": "execute_result",
          "data": {
            "text/html": [
              "<div>\n",
              "<style scoped>\n",
              "    .dataframe tbody tr th:only-of-type {\n",
              "        vertical-align: middle;\n",
              "    }\n",
              "\n",
              "    .dataframe tbody tr th {\n",
              "        vertical-align: top;\n",
              "    }\n",
              "\n",
              "    .dataframe thead th {\n",
              "        text-align: right;\n",
              "    }\n",
              "</style>\n",
              "<table border=\"1\" class=\"dataframe\">\n",
              "  <thead>\n",
              "    <tr style=\"text-align: right;\">\n",
              "      <th></th>\n",
              "      <th>Humidity(%)</th>\n",
              "      <th>Temperature(°C)</th>\n",
              "      <th>WaterFlow(%)</th>\n",
              "    </tr>\n",
              "  </thead>\n",
              "  <tbody>\n",
              "    <tr>\n",
              "      <th>0</th>\n",
              "      <td>25.045045</td>\n",
              "      <td>76.856857</td>\n",
              "      <td>67.432607</td>\n",
              "    </tr>\n",
              "    <tr>\n",
              "      <th>1</th>\n",
              "      <td>8.880881</td>\n",
              "      <td>31.771772</td>\n",
              "      <td>0.000000</td>\n",
              "    </tr>\n",
              "    <tr>\n",
              "      <th>2</th>\n",
              "      <td>24.956957</td>\n",
              "      <td>75.735736</td>\n",
              "      <td>66.105904</td>\n",
              "    </tr>\n",
              "    <tr>\n",
              "      <th>3</th>\n",
              "      <td>40.328328</td>\n",
              "      <td>88.308308</td>\n",
              "      <td>0.000000</td>\n",
              "    </tr>\n",
              "    <tr>\n",
              "      <th>4</th>\n",
              "      <td>38.742743</td>\n",
              "      <td>57.157157</td>\n",
              "      <td>0.000000</td>\n",
              "    </tr>\n",
              "  </tbody>\n",
              "</table>\n",
              "</div>"
            ],
            "text/plain": [
              "   Humidity(%)  Temperature(°C)  WaterFlow(%)\n",
              "0    25.045045        76.856857     67.432607\n",
              "1     8.880881        31.771772      0.000000\n",
              "2    24.956957        75.735736     66.105904\n",
              "3    40.328328        88.308308      0.000000\n",
              "4    38.742743        57.157157      0.000000"
            ]
          },
          "metadata": {},
          "execution_count": 3
        }
      ]
    },
    {
      "cell_type": "code",
      "metadata": {
        "execution": {
          "iopub.status.busy": "2021-10-31T13:30:08.608590Z",
          "iopub.execute_input": "2021-10-31T13:30:08.608911Z",
          "iopub.status.idle": "2021-10-31T13:30:08.619987Z",
          "shell.execute_reply.started": "2021-10-31T13:30:08.608869Z",
          "shell.execute_reply": "2021-10-31T13:30:08.619225Z"
        },
        "trusted": true,
        "id": "wnhkWsycwTRm"
      },
      "source": [
        "# convert to list\n",
        "Humidity = np.array(df['Humidity(%)'].to_list())\n",
        "Temperature = np.array(df['Temperature(°C)'].to_list())\n",
        "WaterFlow = np.array(df['WaterFlow(%)'].to_list())"
      ],
      "execution_count": 4,
      "outputs": []
    },
    {
      "cell_type": "code",
      "metadata": {
        "execution": {
          "iopub.status.busy": "2021-10-31T13:30:08.621465Z",
          "iopub.execute_input": "2021-10-31T13:30:08.621959Z",
          "iopub.status.idle": "2021-10-31T13:30:08.827627Z",
          "shell.execute_reply.started": "2021-10-31T13:30:08.621928Z",
          "shell.execute_reply": "2021-10-31T13:30:08.826930Z"
        },
        "trusted": true,
        "colab": {
          "base_uri": "https://localhost:8080/",
          "height": 279
        },
        "id": "YFLLEUGAwTR3",
        "outputId": "fab213eb-44d9-4448-d0ba-dc05415b2c9e"
      },
      "source": [
        "#plot data\n",
        "plt.scatter(Humidity, WaterFlow, label= \"stars\", color= \"green\",\n",
        "            marker= \"*\")\n",
        "#plt.title(\"Humidity vs WaterFlow\")\n",
        "plt.xlabel(\"Humidity\")\n",
        "plt.ylabel(\"WaterFlow\")\n",
        "plt.show()"
      ],
      "execution_count": 6,
      "outputs": [
        {
          "output_type": "display_data",
          "data": {
            "image/png": "[encoded data removed]",
            "text/plain": [
              "<Figure size 432x288 with 1 Axes>"
            ]
          },
          "metadata": {
            "needs_background": "light"
          }
        }
      ]
    },
    {
      "cell_type": "code",
      "metadata": {
        "execution": {
          "iopub.status.busy": "2021-10-31T13:30:08.830167Z",
          "iopub.execute_input": "2021-10-31T13:30:08.830748Z",
          "iopub.status.idle": "2021-10-31T13:30:09.184120Z",
          "shell.execute_reply.started": "2021-10-31T13:30:08.830707Z",
          "shell.execute_reply": "2021-10-31T13:30:09.183279Z"
        },
        "trusted": true,
        "colab": {
          "base_uri": "https://localhost:8080/",
          "height": 279
        },
        "id": "3ZnaBVgWwTR4",
        "outputId": "2053adb3-092f-4aac-a716-8ccbbb0d0725"
      },
      "source": [
        "plt.scatter(Temperature, WaterFlow, label= \"stars\", color= \"green\",\n",
        "            marker= \"*\")\n",
        "#plt.title(\"Temperature vs WaterFlow\")\n",
        "plt.xlabel(\"Temperature\")\n",
        "plt.ylabel(\"WaterFlow\")\n",
        "plt.show()"
      ],
      "execution_count": 7,
      "outputs": [
        {
          "output_type": "display_data",
          "data": {
            "image/png": "[encoded data removed]",
            "text/plain": [
              "<Figure size 432x288 with 1 Axes>"
            ]
          },
          "metadata": {
            "needs_background": "light"
          }
        }
      ]
    },
    {
      "cell_type": "code",
      "metadata": {
        "trusted": true,
        "id": "qCREOp9-wTR5",
        "colab": {
          "base_uri": "https://localhost:8080/",
          "height": 204
        },
        "outputId": "8d17bd68-aa11-474f-c9ba-a7acdb0fbf20"
      },
      "source": [
        "## remove temp > 35 and waterflow == 0\n",
        "df2 = df.copy()\n",
        "df2.drop(df2[((Temperature > 35) & (WaterFlow == 0))].index, inplace = True)\n",
        "df2.head()"
      ],
      "execution_count": 8,
      "outputs": [
        {
          "output_type": "execute_result",
          "data": {
            "text/html": [
              "<div>\n",
              "<style scoped>\n",
              "    .dataframe tbody tr th:only-of-type {\n",
              "        vertical-align: middle;\n",
              "    }\n",
              "\n",
              "    .dataframe tbody tr th {\n",
              "        vertical-align: top;\n",
              "    }\n",
              "\n",
              "    .dataframe thead th {\n",
              "        text-align: right;\n",
              "    }\n",
              "</style>\n",
              "<table border=\"1\" class=\"dataframe\">\n",
              "  <thead>\n",
              "    <tr style=\"text-align: right;\">\n",
              "      <th></th>\n",
              "      <th>Humidity(%)</th>\n",
              "      <th>Temperature(°C)</th>\n",
              "      <th>WaterFlow(%)</th>\n",
              "    </tr>\n",
              "  </thead>\n",
              "  <tbody>\n",
              "    <tr>\n",
              "      <th>0</th>\n",
              "      <td>25.045045</td>\n",
              "      <td>76.856857</td>\n",
              "      <td>67.432607</td>\n",
              "    </tr>\n",
              "    <tr>\n",
              "      <th>1</th>\n",
              "      <td>8.880881</td>\n",
              "      <td>31.771772</td>\n",
              "      <td>0.000000</td>\n",
              "    </tr>\n",
              "    <tr>\n",
              "      <th>2</th>\n",
              "      <td>24.956957</td>\n",
              "      <td>75.735736</td>\n",
              "      <td>66.105904</td>\n",
              "    </tr>\n",
              "    <tr>\n",
              "      <th>5</th>\n",
              "      <td>45.613614</td>\n",
              "      <td>24.164164</td>\n",
              "      <td>0.000000</td>\n",
              "    </tr>\n",
              "    <tr>\n",
              "      <th>7</th>\n",
              "      <td>23.415415</td>\n",
              "      <td>81.421421</td>\n",
              "      <td>73.999716</td>\n",
              "    </tr>\n",
              "  </tbody>\n",
              "</table>\n",
              "</div>"
            ],
            "text/plain": [
              "   Humidity(%)  Temperature(°C)  WaterFlow(%)\n",
              "0    25.045045        76.856857     67.432607\n",
              "1     8.880881        31.771772      0.000000\n",
              "2    24.956957        75.735736     66.105904\n",
              "5    45.613614        24.164164      0.000000\n",
              "7    23.415415        81.421421     73.999716"
            ]
          },
          "metadata": {},
          "execution_count": 8
        }
      ]
    },
    {
      "cell_type": "code",
      "metadata": {
        "id": "_G90v653MqNZ"
      },
      "source": [
        ""
      ],
      "execution_count": null,
      "outputs": []
    },
    {
      "cell_type": "code",
      "metadata": {
        "execution": {
          "iopub.status.busy": "2021-10-31T13:30:09.185758Z",
          "iopub.execute_input": "2021-10-31T13:30:09.186367Z",
          "iopub.status.idle": "2021-10-31T13:30:09.431934Z",
          "shell.execute_reply.started": "2021-10-31T13:30:09.186301Z",
          "shell.execute_reply": "2021-10-31T13:30:09.431307Z"
        },
        "trusted": true,
        "colab": {
          "base_uri": "https://localhost:8080/",
          "height": 411
        },
        "id": "KwwX5RrGwTR5",
        "outputId": "19e954bf-8eb5-4a18-e2da-f613db750ba3"
      },
      "source": [
        "# 3d plot of data\n",
        "# defining all 3 axes\n",
        "z = WaterFlow\n",
        "x = Temperature\n",
        "y = Humidity\n",
        " \n",
        "fig = plt.figure(figsize = (10, 7))\n",
        "ax = plt.axes(projection =\"3d\")\n",
        " \n",
        "# Creating plot\n",
        "ax.scatter3D(x, y, z, color = \"green\")\n",
        "plt.title(\"simple 3D scatter plot\")\n",
        " \n",
        "# show plot\n",
        "plt.show()"
      ],
      "execution_count": 9,
      "outputs": [
        {
          "output_type": "display_data",
          "data": {
            "image/png": "[encoded data removed]",
            "text/plain": [
              "<Figure size 720x504 with 1 Axes>"
            ]
          },
          "metadata": {
            "needs_background": "light"
          }
        }
      ]
    },
    {
      "cell_type": "code",
      "metadata": {
        "execution": {
          "iopub.status.busy": "2021-10-31T13:30:09.459731Z",
          "iopub.execute_input": "2021-10-31T13:30:09.460280Z",
          "iopub.status.idle": "2021-10-31T13:30:09.466402Z",
          "shell.execute_reply.started": "2021-10-31T13:30:09.460240Z",
          "shell.execute_reply": "2021-10-31T13:30:09.465603Z"
        },
        "trusted": true,
        "id": "c0HDBKBbwTR8"
      },
      "source": [
        "# Convert data to array\n",
        "data = df2.values"
      ],
      "execution_count": 10,
      "outputs": []
    },
    {
      "cell_type": "code",
      "metadata": {
        "execution": {
          "iopub.status.busy": "2021-10-31T13:30:09.467973Z",
          "iopub.execute_input": "2021-10-31T13:30:09.468252Z",
          "iopub.status.idle": "2021-10-31T13:30:09.479611Z",
          "shell.execute_reply.started": "2021-10-31T13:30:09.468216Z",
          "shell.execute_reply": "2021-10-31T13:30:09.478887Z"
        },
        "trusted": true,
        "id": "-yCHXK-1wTR8"
      },
      "source": [
        "# Split data and label\n",
        "x = data[:,:-1]\n",
        "y = data[:,-1]"
      ],
      "execution_count": 11,
      "outputs": []
    },
    {
      "cell_type": "code",
      "metadata": {
        "execution": {
          "iopub.status.busy": "2021-10-31T13:30:09.480737Z",
          "iopub.execute_input": "2021-10-31T13:30:09.482537Z",
          "iopub.status.idle": "2021-10-31T13:30:09.493940Z",
          "shell.execute_reply.started": "2021-10-31T13:30:09.482486Z",
          "shell.execute_reply": "2021-10-31T13:30:09.492923Z"
        },
        "trusted": true,
        "id": "FiLLFFG7wTR9"
      },
      "source": [
        "# Split data into training and testing set\n",
        "x_train, x_test, y_train, y_test = train_test_split(x,y,test_size=0.1, random_state = 4)"
      ],
      "execution_count": 12,
      "outputs": []
    },
    {
      "cell_type": "code",
      "metadata": {
        "execution": {
          "iopub.status.busy": "2021-10-31T13:30:09.495629Z",
          "iopub.execute_input": "2021-10-31T13:30:09.496379Z",
          "iopub.status.idle": "2021-10-31T13:30:23.764899Z",
          "shell.execute_reply.started": "2021-10-31T13:30:09.496175Z",
          "shell.execute_reply": "2021-10-31T13:30:23.764029Z"
        },
        "trusted": true,
        "colab": {
          "base_uri": "https://localhost:8080/"
        },
        "id": "yLLDzqGbwTR-",
        "outputId": "6636619a-62a7-4dca-9944-d0f894fcc763"
      },
      "source": [
        "# Make multilayer perceptron model with 2 hidden layer. And relu as activation function\n",
        "model = Sequential([\n",
        "    Dense(3, activation='relu',input_shape=(2,)),\n",
        "    Dense(2, activation='relu'),\n",
        "    Dense(1)\n",
        "])\n",
        "\n",
        "# Compile model\n",
        "model.compile(loss='mean_squared_error', optimizer='adam')\n",
        "\n",
        "# train the model\n",
        "hist = model.fit(x_train,y_train, batch_size=32, epochs=300, validation_split=0.1)"
      ],
      "execution_count": 15,
      "outputs": [
        {
          "output_type": "stream",
          "name": "stdout",
          "text": [
            "Epoch 1/300\n",
            "3/3 [==============================] - 1s 58ms/step - loss: 1784.8885 - val_loss: 1351.2845\n",
            "Epoch 2/300\n",
            "3/3 [==============================] - 0s 11ms/step - loss: 1750.2271 - val_loss: 1324.8401\n",
            "Epoch 3/300\n",
            "3/3 [==============================] - 0s 11ms/step - loss: 1717.5110 - val_loss: 1298.2751\n",
            "Epoch 4/300\n",
            "3/3 [==============================] - 0s 12ms/step - loss: 1684.1570 - val_loss: 1271.7758\n",
            "Epoch 5/300\n",
            "3/3 [==============================] - 0s 12ms/step - loss: 1652.9908 - val_loss: 1245.1438\n",
            "Epoch 6/300\n",
            "3/3 [==============================] - 0s 12ms/step - loss: 1620.7222 - val_loss: 1218.6050\n",
            "Epoch 7/300\n",
            "3/3 [==============================] - 0s 15ms/step - loss: 1588.0077 - val_loss: 1192.2340\n",
            "Epoch 8/300\n",
            "3/3 [==============================] - 0s 14ms/step - loss: 1555.5934 - val_loss: 1166.0220\n",
            "Epoch 9/300\n",
            "3/3 [==============================] - 0s 14ms/step - loss: 1521.8574 - val_loss: 1140.1355\n",
            "Epoch 10/300\n",
            "3/3 [==============================] - 0s 12ms/step - loss: 1490.9966 - val_loss: 1114.0137\n",
            "Epoch 11/300\n",
            "3/3 [==============================] - 0s 14ms/step - loss: 1456.6276 - val_loss: 1088.1176\n",
            "Epoch 12/300\n",
            "3/3 [==============================] - 0s 12ms/step - loss: 1424.6162 - val_loss: 1062.0519\n",
            "Epoch 13/300\n",
            "3/3 [==============================] - 0s 15ms/step - loss: 1390.7965 - val_loss: 1036.1079\n",
            "Epoch 14/300\n",
            "3/3 [==============================] - 0s 12ms/step - loss: 1357.4420 - val_loss: 1010.2625\n",
            "Epoch 15/300\n",
            "3/3 [==============================] - 0s 12ms/step - loss: 1323.5323 - val_loss: 984.6958\n",
            "Epoch 16/300\n",
            "3/3 [==============================] - 0s 14ms/step - loss: 1290.4009 - val_loss: 959.3030\n",
            "Epoch 17/300\n",
            "3/3 [==============================] - 0s 11ms/step - loss: 1256.2258 - val_loss: 934.2761\n",
            "Epoch 18/300\n",
            "3/3 [==============================] - 0s 11ms/step - loss: 1225.3270 - val_loss: 909.1239\n",
            "Epoch 19/300\n",
            "3/3 [==============================] - 0s 13ms/step - loss: 1191.3706 - val_loss: 884.4661\n",
            "Epoch 20/300\n",
            "3/3 [==============================] - 0s 13ms/step - loss: 1160.9323 - val_loss: 859.7396\n",
            "Epoch 21/300\n",
            "3/3 [==============================] - 0s 16ms/step - loss: 1127.5424 - val_loss: 835.6033\n",
            "Epoch 22/300\n",
            "3/3 [==============================] - 0s 13ms/step - loss: 1097.8237 - val_loss: 811.4905\n",
            "Epoch 23/300\n",
            "3/3 [==============================] - 0s 13ms/step - loss: 1064.7769 - val_loss: 788.0259\n",
            "Epoch 24/300\n",
            "3/3 [==============================] - 0s 13ms/step - loss: 1034.8416 - val_loss: 764.7103\n",
            "Epoch 25/300\n",
            "3/3 [==============================] - 0s 12ms/step - loss: 1002.8187 - val_loss: 742.0017\n",
            "Epoch 26/300\n",
            "3/3 [==============================] - 0s 12ms/step - loss: 973.8245 - val_loss: 719.3376\n",
            "Epoch 27/300\n",
            "3/3 [==============================] - 0s 16ms/step - loss: 942.9686 - val_loss: 697.1615\n",
            "Epoch 28/300\n",
            "3/3 [==============================] - 0s 11ms/step - loss: 914.9087 - val_loss: 675.0223\n",
            "Epoch 29/300\n",
            "3/3 [==============================] - 0s 11ms/step - loss: 886.2004 - val_loss: 653.2403\n",
            "Epoch 30/300\n",
            "3/3 [==============================] - 0s 13ms/step - loss: 856.8715 - val_loss: 632.0004\n",
            "Epoch 31/300\n",
            "3/3 [==============================] - 0s 13ms/step - loss: 827.7288 - val_loss: 611.3457\n",
            "Epoch 32/300\n",
            "3/3 [==============================] - 0s 14ms/step - loss: 801.1328 - val_loss: 590.8583\n",
            "Epoch 33/300\n",
            "3/3 [==============================] - 0s 12ms/step - loss: 773.6988 - val_loss: 570.8093\n",
            "Epoch 34/300\n",
            "3/3 [==============================] - 0s 12ms/step - loss: 746.4926 - val_loss: 551.2469\n",
            "Epoch 35/300\n",
            "3/3 [==============================] - 0s 11ms/step - loss: 720.9108 - val_loss: 531.9479\n",
            "Epoch 36/300\n",
            "3/3 [==============================] - 0s 12ms/step - loss: 695.5077 - val_loss: 513.0438\n",
            "Epoch 37/300\n",
            "3/3 [==============================] - 0s 14ms/step - loss: 670.0875 - val_loss: 494.7144\n",
            "Epoch 38/300\n",
            "3/3 [==============================] - 0s 14ms/step - loss: 644.5405 - val_loss: 477.0170\n",
            "Epoch 39/300\n",
            "3/3 [==============================] - 0s 14ms/step - loss: 620.7722 - val_loss: 459.6476\n",
            "Epoch 40/300\n",
            "3/3 [==============================] - 0s 17ms/step - loss: 598.0316 - val_loss: 442.5992\n",
            "Epoch 41/300\n",
            "3/3 [==============================] - 0s 13ms/step - loss: 574.3683 - val_loss: 426.1740\n",
            "Epoch 42/300\n",
            "3/3 [==============================] - 0s 14ms/step - loss: 551.9458 - val_loss: 410.2084\n",
            "Epoch 43/300\n",
            "3/3 [==============================] - 0s 13ms/step - loss: 530.1799 - val_loss: 394.6840\n",
            "Epoch 44/300\n",
            "3/3 [==============================] - 0s 12ms/step - loss: 508.6229 - val_loss: 379.6617\n",
            "Epoch 45/300\n",
            "3/3 [==============================] - 0s 13ms/step - loss: 488.2068 - val_loss: 365.0226\n",
            "Epoch 46/300\n",
            "3/3 [==============================] - 0s 14ms/step - loss: 469.3953 - val_loss: 350.6621\n",
            "Epoch 47/300\n",
            "3/3 [==============================] - 0s 16ms/step - loss: 448.4610 - val_loss: 337.0698\n",
            "Epoch 48/300\n",
            "3/3 [==============================] - 0s 12ms/step - loss: 429.8900 - val_loss: 323.8995\n",
            "Epoch 49/300\n",
            "3/3 [==============================] - 0s 11ms/step - loss: 411.2487 - val_loss: 311.2714\n",
            "Epoch 50/300\n",
            "3/3 [==============================] - 0s 11ms/step - loss: 393.5727 - val_loss: 299.1141\n",
            "Epoch 51/300\n",
            "3/3 [==============================] - 0s 13ms/step - loss: 377.0115 - val_loss: 287.3576\n",
            "Epoch 52/300\n",
            "3/3 [==============================] - 0s 12ms/step - loss: 359.5409 - val_loss: 276.2369\n",
            "Epoch 53/300\n",
            "3/3 [==============================] - 0s 13ms/step - loss: 344.8261 - val_loss: 265.3763\n",
            "Epoch 54/300\n",
            "3/3 [==============================] - 0s 14ms/step - loss: 328.8477 - val_loss: 255.1239\n",
            "Epoch 55/300\n",
            "3/3 [==============================] - 0s 12ms/step - loss: 314.2579 - val_loss: 245.3073\n",
            "Epoch 56/300\n",
            "3/3 [==============================] - 0s 13ms/step - loss: 300.6461 - val_loss: 235.8835\n",
            "Epoch 57/300\n",
            "3/3 [==============================] - 0s 16ms/step - loss: 286.3532 - val_loss: 227.0566\n",
            "Epoch 58/300\n",
            "3/3 [==============================] - 0s 13ms/step - loss: 274.2539 - val_loss: 218.5331\n",
            "Epoch 59/300\n",
            "3/3 [==============================] - 0s 13ms/step - loss: 261.3163 - val_loss: 210.5284\n",
            "Epoch 60/300\n",
            "3/3 [==============================] - 0s 11ms/step - loss: 248.6265 - val_loss: 202.9886\n",
            "Epoch 61/300\n",
            "3/3 [==============================] - 0s 14ms/step - loss: 237.2623 - val_loss: 195.7742\n",
            "Epoch 62/300\n",
            "3/3 [==============================] - 0s 13ms/step - loss: 226.1143 - val_loss: 188.9455\n",
            "Epoch 63/300\n",
            "3/3 [==============================] - 0s 17ms/step - loss: 215.5838 - val_loss: 182.4899\n",
            "Epoch 64/300\n",
            "3/3 [==============================] - 0s 12ms/step - loss: 206.3184 - val_loss: 176.3067\n",
            "Epoch 65/300\n",
            "3/3 [==============================] - 0s 13ms/step - loss: 196.0027 - val_loss: 170.6384\n",
            "Epoch 66/300\n",
            "3/3 [==============================] - 0s 13ms/step - loss: 186.6950 - val_loss: 165.3533\n",
            "Epoch 67/300\n",
            "3/3 [==============================] - 0s 12ms/step - loss: 178.4504 - val_loss: 160.3481\n",
            "Epoch 68/300\n",
            "3/3 [==============================] - 0s 12ms/step - loss: 170.8111 - val_loss: 155.6225\n",
            "Epoch 69/300\n",
            "3/3 [==============================] - 0s 11ms/step - loss: 162.6761 - val_loss: 151.3148\n",
            "Epoch 70/300\n",
            "3/3 [==============================] - 0s 14ms/step - loss: 155.2749 - val_loss: 147.3463\n",
            "Epoch 71/300\n",
            "3/3 [==============================] - 0s 17ms/step - loss: 148.9801 - val_loss: 143.6042\n",
            "Epoch 72/300\n",
            "3/3 [==============================] - 0s 13ms/step - loss: 142.9738 - val_loss: 140.1286\n",
            "Epoch 73/300\n",
            "3/3 [==============================] - 0s 13ms/step - loss: 136.6949 - val_loss: 136.9934\n",
            "Epoch 74/300\n",
            "3/3 [==============================] - 0s 13ms/step - loss: 130.6241 - val_loss: 134.1869\n",
            "Epoch 75/300\n",
            "3/3 [==============================] - 0s 12ms/step - loss: 125.5272 - val_loss: 131.6086\n",
            "Epoch 76/300\n",
            "3/3 [==============================] - 0s 14ms/step - loss: 121.0850 - val_loss: 129.2146\n",
            "Epoch 77/300\n",
            "3/3 [==============================] - 0s 15ms/step - loss: 116.3998 - val_loss: 127.0725\n",
            "Epoch 78/300\n",
            "3/3 [==============================] - 0s 13ms/step - loss: 112.0807 - val_loss: 125.1550\n",
            "Epoch 79/300\n",
            "3/3 [==============================] - 0s 13ms/step - loss: 108.1320 - val_loss: 123.4316\n",
            "Epoch 80/300\n",
            "3/3 [==============================] - 0s 12ms/step - loss: 104.5821 - val_loss: 121.8814\n",
            "Epoch 81/300\n",
            "3/3 [==============================] - 0s 13ms/step - loss: 101.3825 - val_loss: 120.4882\n",
            "Epoch 82/300\n",
            "3/3 [==============================] - 0s 13ms/step - loss: 98.0593 - val_loss: 119.2735\n",
            "Epoch 83/300\n",
            "3/3 [==============================] - 0s 12ms/step - loss: 95.3320 - val_loss: 118.1843\n",
            "Epoch 84/300\n",
            "3/3 [==============================] - 0s 14ms/step - loss: 92.5834 - val_loss: 117.2383\n",
            "Epoch 85/300\n",
            "3/3 [==============================] - 0s 12ms/step - loss: 90.4578 - val_loss: 116.3917\n",
            "Epoch 86/300\n",
            "3/3 [==============================] - 0s 13ms/step - loss: 88.1893 - val_loss: 115.6721\n",
            "Epoch 87/300\n",
            "3/3 [==============================] - 0s 12ms/step - loss: 85.8751 - val_loss: 115.0816\n",
            "Epoch 88/300\n",
            "3/3 [==============================] - 0s 12ms/step - loss: 83.8807 - val_loss: 114.5928\n",
            "Epoch 89/300\n",
            "3/3 [==============================] - 0s 13ms/step - loss: 82.3542 - val_loss: 114.1738\n",
            "Epoch 90/300\n",
            "3/3 [==============================] - 0s 12ms/step - loss: 80.8523 - val_loss: 113.8300\n",
            "Epoch 91/300\n",
            "3/3 [==============================] - 0s 12ms/step - loss: 79.3793 - val_loss: 113.5618\n",
            "Epoch 92/300\n",
            "3/3 [==============================] - 0s 13ms/step - loss: 77.8970 - val_loss: 113.3645\n",
            "Epoch 93/300\n",
            "3/3 [==============================] - 0s 14ms/step - loss: 76.8258 - val_loss: 113.2176\n",
            "Epoch 94/300\n",
            "3/3 [==============================] - 0s 15ms/step - loss: 75.8324 - val_loss: 113.1189\n",
            "Epoch 95/300\n",
            "3/3 [==============================] - 0s 21ms/step - loss: 74.6790 - val_loss: 113.0662\n",
            "Epoch 96/300\n",
            "3/3 [==============================] - 0s 14ms/step - loss: 73.9571 - val_loss: 113.0491\n",
            "Epoch 97/300\n",
            "3/3 [==============================] - 0s 16ms/step - loss: 73.1233 - val_loss: 113.0674\n",
            "Epoch 98/300\n",
            "3/3 [==============================] - 0s 15ms/step - loss: 72.3036 - val_loss: 113.1114\n",
            "Epoch 99/300\n",
            "3/3 [==============================] - 0s 13ms/step - loss: 71.6366 - val_loss: 113.1770\n",
            "Epoch 100/300\n",
            "3/3 [==============================] - 0s 13ms/step - loss: 71.0683 - val_loss: 113.2656\n",
            "Epoch 101/300\n",
            "3/3 [==============================] - 0s 14ms/step - loss: 70.5892 - val_loss: 113.3733\n",
            "Epoch 102/300\n",
            "3/3 [==============================] - 0s 14ms/step - loss: 70.1441 - val_loss: 113.5007\n",
            "Epoch 103/300\n",
            "3/3 [==============================] - 0s 12ms/step - loss: 69.6394 - val_loss: 113.6324\n",
            "Epoch 104/300\n",
            "3/3 [==============================] - 0s 12ms/step - loss: 69.2317 - val_loss: 113.7726\n",
            "Epoch 105/300\n",
            "3/3 [==============================] - 0s 14ms/step - loss: 68.8282 - val_loss: 113.9126\n",
            "Epoch 106/300\n",
            "3/3 [==============================] - 0s 15ms/step - loss: 68.5668 - val_loss: 114.0694\n",
            "Epoch 107/300\n",
            "3/3 [==============================] - 0s 12ms/step - loss: 68.2476 - val_loss: 114.2196\n",
            "Epoch 108/300\n",
            "3/3 [==============================] - 0s 12ms/step - loss: 68.0558 - val_loss: 114.3833\n",
            "Epoch 109/300\n",
            "3/3 [==============================] - 0s 12ms/step - loss: 67.7507 - val_loss: 114.5285\n",
            "Epoch 110/300\n",
            "3/3 [==============================] - 0s 12ms/step - loss: 67.5756 - val_loss: 114.6833\n",
            "Epoch 111/300\n",
            "3/3 [==============================] - 0s 13ms/step - loss: 67.3699 - val_loss: 114.8345\n",
            "Epoch 112/300\n",
            "3/3 [==============================] - 0s 14ms/step - loss: 67.1773 - val_loss: 114.9801\n",
            "Epoch 113/300\n",
            "3/3 [==============================] - 0s 14ms/step - loss: 66.9863 - val_loss: 115.1063\n",
            "Epoch 114/300\n",
            "3/3 [==============================] - 0s 11ms/step - loss: 66.9003 - val_loss: 115.2520\n",
            "Epoch 115/300\n",
            "3/3 [==============================] - 0s 15ms/step - loss: 66.8374 - val_loss: 115.4051\n",
            "Epoch 116/300\n",
            "3/3 [==============================] - 0s 13ms/step - loss: 66.6199 - val_loss: 115.5107\n",
            "Epoch 117/300\n",
            "3/3 [==============================] - 0s 15ms/step - loss: 66.5073 - val_loss: 115.6086\n",
            "Epoch 118/300\n",
            "3/3 [==============================] - 0s 14ms/step - loss: 66.4502 - val_loss: 115.7268\n",
            "Epoch 119/300\n",
            "3/3 [==============================] - 0s 13ms/step - loss: 66.3420 - val_loss: 115.8299\n",
            "Epoch 120/300\n",
            "3/3 [==============================] - 0s 12ms/step - loss: 66.2728 - val_loss: 115.9246\n",
            "Epoch 121/300\n",
            "3/3 [==============================] - 0s 13ms/step - loss: 66.2063 - val_loss: 116.0200\n",
            "Epoch 122/300\n",
            "3/3 [==============================] - 0s 14ms/step - loss: 66.1144 - val_loss: 116.0932\n",
            "Epoch 123/300\n",
            "3/3 [==============================] - 0s 18ms/step - loss: 66.0666 - val_loss: 116.1672\n",
            "Epoch 124/300\n",
            "3/3 [==============================] - 0s 15ms/step - loss: 65.9988 - val_loss: 116.2295\n",
            "Epoch 125/300\n",
            "3/3 [==============================] - 0s 13ms/step - loss: 65.9269 - val_loss: 116.2842\n",
            "Epoch 126/300\n",
            "3/3 [==============================] - 0s 14ms/step - loss: 65.8956 - val_loss: 116.3605\n",
            "Epoch 127/300\n",
            "3/3 [==============================] - 0s 13ms/step - loss: 65.8204 - val_loss: 116.4131\n",
            "Epoch 128/300\n",
            "3/3 [==============================] - 0s 13ms/step - loss: 65.7554 - val_loss: 116.4551\n",
            "Epoch 129/300\n",
            "3/3 [==============================] - 0s 14ms/step - loss: 65.7129 - val_loss: 116.5065\n",
            "Epoch 130/300\n",
            "3/3 [==============================] - 0s 12ms/step - loss: 65.6760 - val_loss: 116.5364\n",
            "Epoch 131/300\n",
            "3/3 [==============================] - 0s 12ms/step - loss: 65.6693 - val_loss: 116.6009\n",
            "Epoch 132/300\n",
            "3/3 [==============================] - 0s 13ms/step - loss: 65.6024 - val_loss: 116.6208\n",
            "Epoch 133/300\n",
            "3/3 [==============================] - 0s 15ms/step - loss: 65.5361 - val_loss: 116.6449\n",
            "Epoch 134/300\n",
            "3/3 [==============================] - 0s 12ms/step - loss: 65.4979 - val_loss: 116.6465\n",
            "Epoch 135/300\n",
            "3/3 [==============================] - 0s 16ms/step - loss: 65.4686 - val_loss: 116.6479\n",
            "Epoch 136/300\n",
            "3/3 [==============================] - 0s 13ms/step - loss: 65.4217 - val_loss: 116.6562\n",
            "Epoch 137/300\n",
            "3/3 [==============================] - 0s 15ms/step - loss: 65.3747 - val_loss: 116.6617\n",
            "Epoch 138/300\n",
            "3/3 [==============================] - 0s 13ms/step - loss: 65.3593 - val_loss: 116.6648\n",
            "Epoch 139/300\n",
            "3/3 [==============================] - 0s 15ms/step - loss: 65.3050 - val_loss: 116.6509\n",
            "Epoch 140/300\n",
            "3/3 [==============================] - 0s 14ms/step - loss: 65.2682 - val_loss: 116.6317\n",
            "Epoch 141/300\n",
            "3/3 [==============================] - 0s 18ms/step - loss: 65.2329 - val_loss: 116.6207\n",
            "Epoch 142/300\n",
            "3/3 [==============================] - 0s 15ms/step - loss: 65.2088 - val_loss: 116.5987\n",
            "Epoch 143/300\n",
            "3/3 [==============================] - 0s 12ms/step - loss: 65.1690 - val_loss: 116.5634\n",
            "Epoch 144/300\n",
            "3/3 [==============================] - 0s 14ms/step - loss: 65.1348 - val_loss: 116.5392\n",
            "Epoch 145/300\n",
            "3/3 [==============================] - 0s 11ms/step - loss: 65.0975 - val_loss: 116.5122\n",
            "Epoch 146/300\n",
            "3/3 [==============================] - 0s 12ms/step - loss: 65.0765 - val_loss: 116.4969\n",
            "Epoch 147/300\n",
            "3/3 [==============================] - 0s 14ms/step - loss: 65.0518 - val_loss: 116.4946\n",
            "Epoch 148/300\n",
            "3/3 [==============================] - 0s 14ms/step - loss: 64.9891 - val_loss: 116.4610\n",
            "Epoch 149/300\n",
            "3/3 [==============================] - 0s 17ms/step - loss: 64.9453 - val_loss: 116.4171\n",
            "Epoch 150/300\n",
            "3/3 [==============================] - 0s 12ms/step - loss: 64.9279 - val_loss: 116.3985\n",
            "Epoch 151/300\n",
            "3/3 [==============================] - 0s 13ms/step - loss: 64.8970 - val_loss: 116.3608\n",
            "Epoch 152/300\n",
            "3/3 [==============================] - 0s 14ms/step - loss: 64.8462 - val_loss: 116.3296\n",
            "Epoch 153/300\n",
            "3/3 [==============================] - 0s 13ms/step - loss: 64.8116 - val_loss: 116.2875\n",
            "Epoch 154/300\n",
            "3/3 [==============================] - 0s 13ms/step - loss: 64.7828 - val_loss: 116.2734\n",
            "Epoch 155/300\n",
            "3/3 [==============================] - 0s 14ms/step - loss: 64.7489 - val_loss: 116.2341\n",
            "Epoch 156/300\n",
            "3/3 [==============================] - 0s 15ms/step - loss: 64.7194 - val_loss: 116.1964\n",
            "Epoch 157/300\n",
            "3/3 [==============================] - 0s 13ms/step - loss: 64.6887 - val_loss: 116.1659\n",
            "Epoch 158/300\n",
            "3/3 [==============================] - 0s 12ms/step - loss: 64.6485 - val_loss: 116.1196\n",
            "Epoch 159/300\n",
            "3/3 [==============================] - 0s 13ms/step - loss: 64.6191 - val_loss: 116.0747\n",
            "Epoch 160/300\n",
            "3/3 [==============================] - 0s 12ms/step - loss: 64.5812 - val_loss: 116.0322\n",
            "Epoch 161/300\n",
            "3/3 [==============================] - 0s 13ms/step - loss: 64.5458 - val_loss: 116.0046\n",
            "Epoch 162/300\n",
            "3/3 [==============================] - 0s 13ms/step - loss: 64.5413 - val_loss: 115.9789\n",
            "Epoch 163/300\n",
            "3/3 [==============================] - 0s 14ms/step - loss: 64.5105 - val_loss: 115.9638\n",
            "Epoch 164/300\n",
            "3/3 [==============================] - 0s 15ms/step - loss: 64.4532 - val_loss: 115.9366\n",
            "Epoch 165/300\n",
            "3/3 [==============================] - 0s 23ms/step - loss: 64.4009 - val_loss: 115.9112\n",
            "Epoch 166/300\n",
            "3/3 [==============================] - 0s 13ms/step - loss: 64.4078 - val_loss: 115.8845\n",
            "Epoch 167/300\n",
            "3/3 [==============================] - 0s 14ms/step - loss: 64.3800 - val_loss: 115.8392\n",
            "Epoch 168/300\n",
            "3/3 [==============================] - 0s 14ms/step - loss: 64.3480 - val_loss: 115.7750\n",
            "Epoch 169/300\n",
            "3/3 [==============================] - 0s 14ms/step - loss: 64.3137 - val_loss: 115.7292\n",
            "Epoch 170/300\n",
            "3/3 [==============================] - 0s 13ms/step - loss: 64.2855 - val_loss: 115.7100\n",
            "Epoch 171/300\n",
            "3/3 [==============================] - 0s 13ms/step - loss: 64.2113 - val_loss: 115.6599\n",
            "Epoch 172/300\n",
            "3/3 [==============================] - 0s 14ms/step - loss: 64.1677 - val_loss: 115.6260\n",
            "Epoch 173/300\n",
            "3/3 [==============================] - 0s 12ms/step - loss: 64.1539 - val_loss: 115.5756\n",
            "Epoch 174/300\n",
            "3/3 [==============================] - 0s 13ms/step - loss: 64.1313 - val_loss: 115.5456\n",
            "Epoch 175/300\n",
            "3/3 [==============================] - 0s 16ms/step - loss: 64.0928 - val_loss: 115.4689\n",
            "Epoch 176/300\n",
            "3/3 [==============================] - 0s 14ms/step - loss: 64.0507 - val_loss: 115.4344\n",
            "Epoch 177/300\n",
            "3/3 [==============================] - 0s 14ms/step - loss: 64.0146 - val_loss: 115.3997\n",
            "Epoch 178/300\n",
            "3/3 [==============================] - 0s 14ms/step - loss: 63.9841 - val_loss: 115.3665\n",
            "Epoch 179/300\n",
            "3/3 [==============================] - 0s 14ms/step - loss: 63.9455 - val_loss: 115.3014\n",
            "Epoch 180/300\n",
            "3/3 [==============================] - 0s 12ms/step - loss: 63.9134 - val_loss: 115.2304\n",
            "Epoch 181/300\n",
            "3/3 [==============================] - 0s 12ms/step - loss: 63.8776 - val_loss: 115.1875\n",
            "Epoch 182/300\n",
            "3/3 [==============================] - 0s 13ms/step - loss: 63.8553 - val_loss: 115.1645\n",
            "Epoch 183/300\n",
            "3/3 [==============================] - 0s 14ms/step - loss: 63.8262 - val_loss: 115.1227\n",
            "Epoch 184/300\n",
            "3/3 [==============================] - 0s 13ms/step - loss: 63.7950 - val_loss: 115.0787\n",
            "Epoch 185/300\n",
            "3/3 [==============================] - 0s 13ms/step - loss: 63.7456 - val_loss: 115.0004\n",
            "Epoch 186/300\n",
            "3/3 [==============================] - 0s 14ms/step - loss: 63.7240 - val_loss: 114.9478\n",
            "Epoch 187/300\n",
            "3/3 [==============================] - 0s 12ms/step - loss: 63.6805 - val_loss: 114.8919\n",
            "Epoch 188/300\n",
            "3/3 [==============================] - 0s 13ms/step - loss: 63.6502 - val_loss: 114.8289\n",
            "Epoch 189/300\n",
            "3/3 [==============================] - 0s 14ms/step - loss: 63.6219 - val_loss: 114.7771\n",
            "Epoch 190/300\n",
            "3/3 [==============================] - 0s 13ms/step - loss: 63.5904 - val_loss: 114.7514\n",
            "Epoch 191/300\n",
            "3/3 [==============================] - 0s 12ms/step - loss: 63.5643 - val_loss: 114.7390\n",
            "Epoch 192/300\n",
            "3/3 [==============================] - 0s 20ms/step - loss: 63.5246 - val_loss: 114.7028\n",
            "Epoch 193/300\n",
            "3/3 [==============================] - 0s 15ms/step - loss: 63.4860 - val_loss: 114.6650\n",
            "Epoch 194/300\n",
            "3/3 [==============================] - 0s 13ms/step - loss: 63.4608 - val_loss: 114.6070\n",
            "Epoch 195/300\n",
            "3/3 [==============================] - 0s 16ms/step - loss: 63.4273 - val_loss: 114.5461\n",
            "Epoch 196/300\n",
            "3/3 [==============================] - 0s 12ms/step - loss: 63.3869 - val_loss: 114.4845\n",
            "Epoch 197/300\n",
            "3/3 [==============================] - 0s 14ms/step - loss: 63.3635 - val_loss: 114.4320\n",
            "Epoch 198/300\n",
            "3/3 [==============================] - 0s 12ms/step - loss: 63.3438 - val_loss: 114.4133\n",
            "Epoch 199/300\n",
            "3/3 [==============================] - 0s 15ms/step - loss: 63.2985 - val_loss: 114.3598\n",
            "Epoch 200/300\n",
            "3/3 [==============================] - 0s 18ms/step - loss: 63.2694 - val_loss: 114.2925\n",
            "Epoch 201/300\n",
            "3/3 [==============================] - 0s 12ms/step - loss: 63.2363 - val_loss: 114.2662\n",
            "Epoch 202/300\n",
            "3/3 [==============================] - 0s 13ms/step - loss: 63.2055 - val_loss: 114.2235\n",
            "Epoch 203/300\n",
            "3/3 [==============================] - 0s 12ms/step - loss: 63.1645 - val_loss: 114.1690\n",
            "Epoch 204/300\n",
            "3/3 [==============================] - 0s 14ms/step - loss: 63.1371 - val_loss: 114.1151\n",
            "Epoch 205/300\n",
            "3/3 [==============================] - 0s 14ms/step - loss: 63.1039 - val_loss: 114.0431\n",
            "Epoch 206/300\n",
            "3/3 [==============================] - 0s 14ms/step - loss: 63.0911 - val_loss: 114.0051\n",
            "Epoch 207/300\n",
            "3/3 [==============================] - 0s 12ms/step - loss: 63.0554 - val_loss: 113.9129\n",
            "Epoch 208/300\n",
            "3/3 [==============================] - 0s 13ms/step - loss: 63.0129 - val_loss: 113.8437\n",
            "Epoch 209/300\n",
            "3/3 [==============================] - 0s 14ms/step - loss: 62.9876 - val_loss: 113.7872\n",
            "Epoch 210/300\n",
            "3/3 [==============================] - 0s 15ms/step - loss: 62.9505 - val_loss: 113.7601\n",
            "Epoch 211/300\n",
            "3/3 [==============================] - 0s 14ms/step - loss: 62.9182 - val_loss: 113.7255\n",
            "Epoch 212/300\n",
            "3/3 [==============================] - 0s 15ms/step - loss: 62.8891 - val_loss: 113.6862\n",
            "Epoch 213/300\n",
            "3/3 [==============================] - 0s 16ms/step - loss: 62.8694 - val_loss: 113.6495\n",
            "Epoch 214/300\n",
            "3/3 [==============================] - 0s 13ms/step - loss: 62.8345 - val_loss: 113.6035\n",
            "Epoch 215/300\n",
            "3/3 [==============================] - 0s 12ms/step - loss: 62.7952 - val_loss: 113.5673\n",
            "Epoch 216/300\n",
            "3/3 [==============================] - 0s 15ms/step - loss: 62.7668 - val_loss: 113.5278\n",
            "Epoch 217/300\n",
            "3/3 [==============================] - 0s 15ms/step - loss: 62.7291 - val_loss: 113.4754\n",
            "Epoch 218/300\n",
            "3/3 [==============================] - 0s 16ms/step - loss: 62.7019 - val_loss: 113.4403\n",
            "Epoch 219/300\n",
            "3/3 [==============================] - 0s 14ms/step - loss: 62.6679 - val_loss: 113.4094\n",
            "Epoch 220/300\n",
            "3/3 [==============================] - 0s 15ms/step - loss: 62.6358 - val_loss: 113.3565\n",
            "Epoch 221/300\n",
            "3/3 [==============================] - 0s 14ms/step - loss: 62.6073 - val_loss: 113.3045\n",
            "Epoch 222/300\n",
            "3/3 [==============================] - 0s 14ms/step - loss: 62.5868 - val_loss: 113.2633\n",
            "Epoch 223/300\n",
            "3/3 [==============================] - 0s 15ms/step - loss: 62.5622 - val_loss: 113.2469\n",
            "Epoch 224/300\n",
            "3/3 [==============================] - 0s 14ms/step - loss: 62.5109 - val_loss: 113.1910\n",
            "Epoch 225/300\n",
            "3/3 [==============================] - 0s 16ms/step - loss: 62.5240 - val_loss: 113.1432\n",
            "Epoch 226/300\n",
            "3/3 [==============================] - 0s 15ms/step - loss: 62.4772 - val_loss: 113.1020\n",
            "Epoch 227/300\n",
            "3/3 [==============================] - 0s 14ms/step - loss: 62.4588 - val_loss: 113.0812\n",
            "Epoch 228/300\n",
            "3/3 [==============================] - 0s 15ms/step - loss: 62.4400 - val_loss: 113.0608\n",
            "Epoch 229/300\n",
            "3/3 [==============================] - 0s 17ms/step - loss: 62.3679 - val_loss: 112.9764\n",
            "Epoch 230/300\n",
            "3/3 [==============================] - 0s 20ms/step - loss: 62.3370 - val_loss: 112.8924\n",
            "Epoch 231/300\n",
            "3/3 [==============================] - 0s 15ms/step - loss: 62.3069 - val_loss: 112.8258\n",
            "Epoch 232/300\n",
            "3/3 [==============================] - 0s 15ms/step - loss: 62.2801 - val_loss: 112.7808\n",
            "Epoch 233/300\n",
            "3/3 [==============================] - 0s 17ms/step - loss: 62.2481 - val_loss: 112.7220\n",
            "Epoch 234/300\n",
            "3/3 [==============================] - 0s 15ms/step - loss: 62.2259 - val_loss: 112.6618\n",
            "Epoch 235/300\n",
            "3/3 [==============================] - 0s 15ms/step - loss: 62.1858 - val_loss: 112.5927\n",
            "Epoch 236/300\n",
            "3/3 [==============================] - 0s 15ms/step - loss: 62.1706 - val_loss: 112.5238\n",
            "Epoch 237/300\n",
            "3/3 [==============================] - 0s 14ms/step - loss: 62.1373 - val_loss: 112.4795\n",
            "Epoch 238/300\n",
            "3/3 [==============================] - 0s 17ms/step - loss: 62.1073 - val_loss: 112.4483\n",
            "Epoch 239/300\n",
            "3/3 [==============================] - 0s 20ms/step - loss: 62.0827 - val_loss: 112.4517\n",
            "Epoch 240/300\n",
            "3/3 [==============================] - 0s 16ms/step - loss: 62.0420 - val_loss: 112.4341\n",
            "Epoch 241/300\n",
            "3/3 [==============================] - 0s 14ms/step - loss: 62.0138 - val_loss: 112.3970\n",
            "Epoch 242/300\n",
            "3/3 [==============================] - 0s 14ms/step - loss: 61.9970 - val_loss: 112.3210\n",
            "Epoch 243/300\n",
            "3/3 [==============================] - 0s 15ms/step - loss: 61.9539 - val_loss: 112.2740\n",
            "Epoch 244/300\n",
            "3/3 [==============================] - 0s 14ms/step - loss: 61.9323 - val_loss: 112.2419\n",
            "Epoch 245/300\n",
            "3/3 [==============================] - 0s 14ms/step - loss: 61.8952 - val_loss: 112.2164\n",
            "Epoch 246/300\n",
            "3/3 [==============================] - 0s 15ms/step - loss: 61.8645 - val_loss: 112.1909\n",
            "Epoch 247/300\n",
            "3/3 [==============================] - 0s 16ms/step - loss: 61.8408 - val_loss: 112.1209\n",
            "Epoch 248/300\n",
            "3/3 [==============================] - 0s 14ms/step - loss: 61.8203 - val_loss: 112.0948\n",
            "Epoch 249/300\n",
            "3/3 [==============================] - 0s 13ms/step - loss: 61.7850 - val_loss: 112.0136\n",
            "Epoch 250/300\n",
            "3/3 [==============================] - 0s 14ms/step - loss: 61.7411 - val_loss: 111.9559\n",
            "Epoch 251/300\n",
            "3/3 [==============================] - 0s 17ms/step - loss: 61.7432 - val_loss: 111.8981\n",
            "Epoch 252/300\n",
            "3/3 [==============================] - 0s 16ms/step - loss: 61.7018 - val_loss: 111.8703\n",
            "Epoch 253/300\n",
            "3/3 [==============================] - 0s 13ms/step - loss: 61.6817 - val_loss: 111.8488\n",
            "Epoch 254/300\n",
            "3/3 [==============================] - 0s 15ms/step - loss: 61.6413 - val_loss: 111.8111\n",
            "Epoch 255/300\n",
            "3/3 [==============================] - 0s 15ms/step - loss: 61.6016 - val_loss: 111.7505\n",
            "Epoch 256/300\n",
            "3/3 [==============================] - 0s 16ms/step - loss: 61.5699 - val_loss: 111.7008\n",
            "Epoch 257/300\n",
            "3/3 [==============================] - 0s 15ms/step - loss: 61.5505 - val_loss: 111.6757\n",
            "Epoch 258/300\n",
            "3/3 [==============================] - 0s 13ms/step - loss: 61.5214 - val_loss: 111.5943\n",
            "Epoch 259/300\n",
            "3/3 [==============================] - 0s 14ms/step - loss: 61.4830 - val_loss: 111.5519\n",
            "Epoch 260/300\n",
            "3/3 [==============================] - 0s 14ms/step - loss: 61.4660 - val_loss: 111.5242\n",
            "Epoch 261/300\n",
            "3/3 [==============================] - 0s 14ms/step - loss: 61.4409 - val_loss: 111.4655\n",
            "Epoch 262/300\n",
            "3/3 [==============================] - 0s 14ms/step - loss: 61.4076 - val_loss: 111.4055\n",
            "Epoch 263/300\n",
            "3/3 [==============================] - 0s 17ms/step - loss: 61.3868 - val_loss: 111.3220\n",
            "Epoch 264/300\n",
            "3/3 [==============================] - 0s 14ms/step - loss: 61.3467 - val_loss: 111.2771\n",
            "Epoch 265/300\n",
            "3/3 [==============================] - 0s 14ms/step - loss: 61.3195 - val_loss: 111.2435\n",
            "Epoch 266/300\n",
            "3/3 [==============================] - 0s 16ms/step - loss: 61.3038 - val_loss: 111.2187\n",
            "Epoch 267/300\n",
            "3/3 [==============================] - 0s 14ms/step - loss: 61.2650 - val_loss: 111.1466\n",
            "Epoch 268/300\n",
            "3/3 [==============================] - 0s 14ms/step - loss: 61.2391 - val_loss: 111.1103\n",
            "Epoch 269/300\n",
            "3/3 [==============================] - 0s 14ms/step - loss: 61.2278 - val_loss: 111.0601\n",
            "Epoch 270/300\n",
            "3/3 [==============================] - 0s 13ms/step - loss: 61.1931 - val_loss: 111.0278\n",
            "Epoch 271/300\n",
            "3/3 [==============================] - 0s 16ms/step - loss: 61.1516 - val_loss: 110.9990\n",
            "Epoch 272/300\n",
            "3/3 [==============================] - 0s 14ms/step - loss: 61.1349 - val_loss: 110.9828\n",
            "Epoch 273/300\n",
            "3/3 [==============================] - 0s 13ms/step - loss: 61.1029 - val_loss: 110.9384\n",
            "Epoch 274/300\n",
            "3/3 [==============================] - 0s 14ms/step - loss: 61.0715 - val_loss: 110.8887\n",
            "Epoch 275/300\n",
            "3/3 [==============================] - 0s 14ms/step - loss: 61.0465 - val_loss: 110.8273\n",
            "Epoch 276/300\n",
            "3/3 [==============================] - 0s 15ms/step - loss: 61.0097 - val_loss: 110.8158\n",
            "Epoch 277/300\n",
            "3/3 [==============================] - 0s 19ms/step - loss: 60.9814 - val_loss: 110.7888\n",
            "Epoch 278/300\n",
            "3/3 [==============================] - 0s 15ms/step - loss: 60.9571 - val_loss: 110.7356\n",
            "Epoch 279/300\n",
            "3/3 [==============================] - 0s 18ms/step - loss: 60.9339 - val_loss: 110.7263\n",
            "Epoch 280/300\n",
            "3/3 [==============================] - 0s 18ms/step - loss: 60.9058 - val_loss: 110.7008\n",
            "Epoch 281/300\n",
            "3/3 [==============================] - 0s 20ms/step - loss: 60.8829 - val_loss: 110.6684\n",
            "Epoch 282/300\n",
            "3/3 [==============================] - 0s 18ms/step - loss: 60.8484 - val_loss: 110.5885\n",
            "Epoch 283/300\n",
            "3/3 [==============================] - 0s 16ms/step - loss: 60.8389 - val_loss: 110.4910\n",
            "Epoch 284/300\n",
            "3/3 [==============================] - 0s 18ms/step - loss: 60.7977 - val_loss: 110.4682\n",
            "Epoch 285/300\n",
            "3/3 [==============================] - 0s 14ms/step - loss: 60.7674 - val_loss: 110.4250\n",
            "Epoch 286/300\n",
            "3/3 [==============================] - 0s 16ms/step - loss: 60.7426 - val_loss: 110.3581\n",
            "Epoch 287/300\n",
            "3/3 [==============================] - 0s 19ms/step - loss: 60.7273 - val_loss: 110.3021\n",
            "Epoch 288/300\n",
            "3/3 [==============================] - 0s 15ms/step - loss: 60.7054 - val_loss: 110.2431\n",
            "Epoch 289/300\n",
            "3/3 [==============================] - 0s 24ms/step - loss: 60.6796 - val_loss: 110.2262\n",
            "Epoch 290/300\n",
            "3/3 [==============================] - 0s 12ms/step - loss: 60.6400 - val_loss: 110.1594\n",
            "Epoch 291/300\n",
            "3/3 [==============================] - 0s 17ms/step - loss: 60.6132 - val_loss: 110.1090\n",
            "Epoch 292/300\n",
            "3/3 [==============================] - 0s 18ms/step - loss: 60.5892 - val_loss: 110.0806\n",
            "Epoch 293/300\n",
            "3/3 [==============================] - 0s 12ms/step - loss: 60.5646 - val_loss: 110.0425\n",
            "Epoch 294/300\n",
            "3/3 [==============================] - 0s 14ms/step - loss: 60.5357 - val_loss: 109.9951\n",
            "Epoch 295/300\n",
            "3/3 [==============================] - 0s 15ms/step - loss: 60.5074 - val_loss: 109.9190\n",
            "Epoch 296/300\n",
            "3/3 [==============================] - 0s 14ms/step - loss: 60.4751 - val_loss: 109.8857\n",
            "Epoch 297/300\n",
            "3/3 [==============================] - 0s 14ms/step - loss: 60.4445 - val_loss: 109.8388\n",
            "Epoch 298/300\n",
            "3/3 [==============================] - 0s 13ms/step - loss: 60.4430 - val_loss: 109.7494\n",
            "Epoch 299/300\n",
            "3/3 [==============================] - 0s 15ms/step - loss: 60.3860 - val_loss: 109.7355\n",
            "Epoch 300/300\n",
            "3/3 [==============================] - 0s 14ms/step - loss: 60.3640 - val_loss: 109.7278\n"
          ]
        }
      ]
    },
    {
      "cell_type": "code",
      "metadata": {
        "execution": {
          "iopub.status.busy": "2021-10-31T13:30:23.766230Z",
          "iopub.execute_input": "2021-10-31T13:30:23.767091Z",
          "iopub.status.idle": "2021-10-31T13:30:23.935401Z",
          "shell.execute_reply.started": "2021-10-31T13:30:23.767050Z",
          "shell.execute_reply": "2021-10-31T13:30:23.934413Z"
        },
        "trusted": true,
        "colab": {
          "base_uri": "https://localhost:8080/",
          "height": 295
        },
        "id": "ZrIaEbWVwTR-",
        "outputId": "7d6f0b6d-5ace-4207-fd84-277919d46ee2"
      },
      "source": [
        "plt.plot(hist.history['loss'])\n",
        "plt.plot(hist.history['val_loss'])\n",
        "plt.ylabel('loss')\n",
        "plt.xlabel('epoch')\n",
        "plt.title(\"Epoch vs Loss\")\n",
        "plt.legend(['Train','Val'])\n",
        "plt.show()"
      ],
      "execution_count": 16,
      "outputs": [
        {
          "output_type": "display_data",
          "data": {
            "image/png": "[encoded data removed]",
            "text/plain": [
              "<Figure size 432x288 with 1 Axes>"
            ]
          },
          "metadata": {
            "needs_background": "light"
          }
        }
      ]
    },
    {
      "cell_type": "code",
      "metadata": {
        "colab": {
          "base_uri": "https://localhost:8080/"
        },
        "id": "DrgotYsmPVsH",
        "outputId": "2616b5ad-5ecd-424e-b4e9-318c146252ab"
      },
      "source": [
        "# model summery\n",
        "model.summary()"
      ],
      "execution_count": 17,
      "outputs": [
        {
          "output_type": "stream",
          "name": "stdout",
          "text": [
            "Model: \"sequential_2\"\n",
            "_________________________________________________________________\n",
            "Layer (type)                 Output Shape              Param #   \n",
            "=================================================================\n",
            "dense_6 (Dense)              (None, 3)                 9         \n",
            "_________________________________________________________________\n",
            "dense_7 (Dense)              (None, 2)                 8         \n",
            "_________________________________________________________________\n",
            "dense_8 (Dense)              (None, 1)                 3         \n",
            "=================================================================\n",
            "Total params: 20\n",
            "Trainable params: 20\n",
            "Non-trainable params: 0\n",
            "_________________________________________________________________\n"
          ]
        }
      ]
    },
    {
      "cell_type": "code",
      "metadata": {
        "colab": {
          "base_uri": "https://localhost:8080/",
          "height": 422
        },
        "id": "NmLlE-APPY0R",
        "outputId": "0791ea6e-2025-41fc-92b6-c5e98d534a4c"
      },
      "source": [
        "# model layers\n",
        "plot_model(model, to_file='model_plot.png', show_shapes=True, show_layer_names=True)"
      ],
      "execution_count": 18,
      "outputs": [
        {
          "output_type": "execute_result",
          "data": {
            "image/png": "[encoded data removed]",
            "text/plain": [
              "<IPython.core.display.Image object>"
            ]
          },
          "metadata": {},
          "execution_count": 18
        }
      ]
    },
    {
      "cell_type": "code",
      "metadata": {
        "colab": {
          "base_uri": "https://localhost:8080/"
        },
        "id": "i-t1Fx5YPokN",
        "outputId": "07686e56-3669-4c88-c96e-bf8a8021f61e"
      },
      "source": [
        "# Get the trained weights of model \n",
        "weights = model.get_weights()\n",
        "weights\n",
        "# Its is list of array. First array is weigths of first hidden layer followed by its bias in next array. Similarly for secound hidden layer and output layer."
      ],
      "execution_count": null,
      "outputs": [
        {
          "output_type": "execute_result",
          "data": {
            "text/plain": [
              "[array([[ 0.5534344 , -0.10727889, -0.70987916],\n",
              "        [ 0.6491224 ,  1.0499377 ,  0.577512  ]], dtype=float32),\n",
              " array([-0.0261669 , -0.26340628, -0.32963908], dtype=float32),\n",
              " array([[-0.18413194,  0.5379906 ],\n",
              "        [ 1.0255823 , -0.740104  ],\n",
              "        [ 1.085551  ,  0.8616468 ]], dtype=float32),\n",
              " array([-0.43135253, -0.13185199], dtype=float32),\n",
              " array([[ 0.6965084],\n",
              "        [-0.6874518]], dtype=float32),\n",
              " array([-0.39609757], dtype=float32)]"
            ]
          },
          "metadata": {},
          "execution_count": 33
        }
      ]
    },
    {
      "cell_type": "code",
      "metadata": {
        "execution": {
          "iopub.status.busy": "2021-10-31T13:30:23.937469Z",
          "iopub.execute_input": "2021-10-31T13:30:23.937775Z",
          "iopub.status.idle": "2021-10-31T13:30:23.943331Z",
          "shell.execute_reply.started": "2021-10-31T13:30:23.937745Z",
          "shell.execute_reply": "2021-10-31T13:30:23.942377Z"
        },
        "trusted": true,
        "id": "GSGnobfgwTR_"
      },
      "source": [
        "# funtion to make prediction\n",
        "def predict(x):\n",
        "    prediction = model.predict(x)\n",
        "    prediction[prediction <= 0] = 0\n",
        "    return prediction"
      ],
      "execution_count": 19,
      "outputs": []
    },
    {
      "cell_type": "code",
      "metadata": {
        "id": "7tmKqemrPHu1"
      },
      "source": [
        ""
      ],
      "execution_count": 19,
      "outputs": []
    },
    {
      "cell_type": "code",
      "metadata": {
        "execution": {
          "iopub.status.busy": "2021-10-31T13:30:23.944953Z",
          "iopub.execute_input": "2021-10-31T13:30:23.945173Z",
          "iopub.status.idle": "2021-10-31T13:30:24.338036Z",
          "shell.execute_reply.started": "2021-10-31T13:30:23.945148Z",
          "shell.execute_reply": "2021-10-31T13:30:24.337178Z"
        },
        "trusted": true,
        "colab": {
          "base_uri": "https://localhost:8080/",
          "height": 513
        },
        "id": "xzdVNkpMwTR_",
        "outputId": "4f1c5d4f-5bae-484c-8827-d705735b6a93"
      },
      "source": [
        "# make prediction\n",
        "prediction = predict(x_test)\n",
        "\n",
        "# plot graph red is prediction and green is original data\n",
        "plt.scatter(x_test[:,1], prediction, label= \"stars\", color= \"red\",marker= \"*\")   \n",
        "plt.scatter(x_train[:,1], y_train, label= \"stars\", color= \"green\",marker= \"*\")    \n",
        "plt.show()\n",
        "\n",
        "plt.scatter(x_test[:,0], prediction, label= \"stars\", color= \"red\",marker= \"*\")   \n",
        "plt.scatter(x_train[:,0], y_train, label= \"stars\", color= \"green\",marker= \"*\")    \n",
        "plt.show()\n",
        "# here the red points show test examples and green points are training examples."
      ],
      "execution_count": 20,
      "outputs": [
        {
          "output_type": "display_data",
          "data": {
            "image/png": "[encoded data removed]",
            "text/plain": [
              "<Figure size 432x288 with 1 Axes>"
            ]
          },
          "metadata": {
            "needs_background": "light"
          }
        },
        {
          "output_type": "display_data",
          "data": {
            "image/png": "[encoded data removed]",
            "text/plain": [
              "<Figure size 432x288 with 1 Axes>"
            ]
          },
          "metadata": {
            "needs_background": "light"
          }
        }
      ]
    }
  ]
}